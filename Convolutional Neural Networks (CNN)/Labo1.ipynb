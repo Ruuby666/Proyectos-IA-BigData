{
  "nbformat": 4,
  "nbformat_minor": 0,
  "metadata": {
    "colab": {
      "provenance": []
    },
    "kernelspec": {
      "name": "python3",
      "display_name": "Python 3"
    },
    "accelerator": "GPU"
  },
  "cells": [
    {
      "metadata": {
        "id": "mX8gZlVyCCbz"
      },
      "cell_type": "markdown",
      "source": [
        "# Laboratorio: Convolutional Neural Networks\n",
        "\n",
        "En este laboratorio, vamos a trabajar con Convolutional Neural Networks para resolver un problema de clasificación de imágenes. En particular, vamos a clasificar imágenes de personajes de la conocida serie de los Simpsons.\n",
        "\n",
        "Como las CNN profundas son un tipo de modelo bastante avanzado y computacionalmente costoso, se recomienda hacer la práctica en Google Colaboratory con soporte para GPUs. En [este enlace](https://medium.com/deep-learning-turkey/google-colab-free-gpu-tutorial-e113627b9f5d) se explica cómo activar un entorno con GPUs. *Nota: para leer las imágenes y estandarizarlas al mismo tamaño se usa la librería opencv. Esta ĺibrería está ya instalada en el entorno de Colab, pero si trabajáis de manera local tendréis que instalarla.*\n",
        "\n",
        "<center><img src=\"https://i.imgur.com/i8zIGqX.jpg\" style=\"text-align: center\" height=\"300px\"></center>\n",
        "\n",
        "El dataset a utilizar consiste en imágenes de personajes de los Simpsons extraídas directamente de capítulos de la serie. Este dataset ha sido recopilado por [Alexandre Attia](http://www.alexattia.fr/) y es más complejo que el dataset de Fashion MNIST que hemos utilizado hasta ahora. Aparte de tener más clases (vamos a utilizar los 18 personajes con más imágenes), los personajes pueden aparecer en distintas poses, en distintas posiciones de la imagen o con otros personajes en pantalla (si bien el personaje a clasificar siempre aparece en la posición predominante).\n",
        "\n",
        "El dataset de training puede ser descargado desde aquí:\n",
        "\n",
        "[Training data](https://onedrive.live.com/download?cid=C506CF0A4F373B0F&resid=C506CF0A4F373B0F%219337&authkey=AMzI92bJPx8Sd60) (~500MB)\n",
        "\n",
        "Por otro lado, el dataset de test puede ser descargado de aquí:\n",
        "\n",
        "[Test data](https://onedrive.live.com/download?cid=C506CF0A4F373B0F&resid=C506CF0A4F373B0F%219341&authkey=ANnjK3Uq1FhuAe8) (~10MB)\n",
        "\n",
        "Antes de empezar la práctica, se recomienda descargar las imágenes y echarlas un vistazo.\n"
      ]
    },
    {
      "metadata": {
        "id": "QI274F8LQC59"
      },
      "cell_type": "markdown",
      "source": [
        "## Carga de los datos"
      ]
    },
    {
      "metadata": {
        "id": "D7tKOZ9BFfki"
      },
      "cell_type": "code",
      "source": [
        "import cv2\n",
        "import os\n",
        "import numpy as np \n",
        "import keras\n",
        "import matplotlib.pyplot as plt\n",
        "import glob\n",
        "\n",
        "\n",
        "# Primero, bajamos los datos de entrenamiento\n",
        "keras.utils.get_file(fname=\"simpsons_train.tar.gz\", \n",
        "                     origin=\"https://onedrive.live.com/download?cid=C506CF0A4F373B0F&resid=C506CF0A4F373B0F%219337&authkey=AMzI92bJPx8Sd60\")\n",
        "\n",
        "# Descomprimimos el archivo\n",
        "!tar -xzf /root/.keras/datasets/simpsons_train.tar.gz -C /root/.keras/datasets\n",
        "\n",
        "# Hacemos lo mismo con los datos de test\n",
        "keras.utils.get_file(fname=\"simpsons_test.tar.gz\", \n",
        "                     origin=\"https://onedrive.live.com/download?cid=C506CF0A4F373B0F&resid=C506CF0A4F373B0F%219341&authkey=ANnjK3Uq1FhuAe8\")\n",
        "!tar -xzf /root/.keras/datasets/simpsons_test.tar.gz -C /root/.keras/datasets"
      ],
      "execution_count": null,
      "outputs": []
    },
    {
      "metadata": {
        "id": "hMFhe3COFwSD"
      },
      "cell_type": "code",
      "source": [
        "# Esta variable contiene un mapeo de número de clase a personaje.\n",
        "# Utilizamos sólo los 18 personajes del dataset que tienen más imágenes.\n",
        "MAP_CHARACTERS = {\n",
        "    0: 'abraham_grampa_simpson', 1: 'apu_nahasapeemapetilon', 2: 'bart_simpson',\n",
        "    3: 'charles_montgomery_burns', 4: 'chief_wiggum', 5: 'comic_book_guy', 6: 'edna_krabappel', \n",
        "    7: 'homer_simpson', 8: 'kent_brockman', 9: 'krusty_the_clown', 10: 'lisa_simpson', \n",
        "    11: 'marge_simpson', 12: 'milhouse_van_houten', 13: 'moe_szyslak', \n",
        "    14: 'ned_flanders', 15: 'nelson_muntz', 16: 'principal_skinner', 17: 'sideshow_bob'\n",
        "}\n",
        "\n",
        "# Vamos a standarizar todas las imágenes a tamaño 64x64\n",
        "IMG_SIZE = 64"
      ],
      "execution_count": null,
      "outputs": []
    },
    {
      "metadata": {
        "id": "5bJ0NsbCbupF"
      },
      "cell_type": "code",
      "source": [
        "def load_train_set(dirname, map_characters, verbose=True):\n",
        "    \"\"\"Esta función carga los datos de training en imágenes.\n",
        "    \n",
        "    Como las imágenes tienen tamaños distintas, utilizamos la librería opencv\n",
        "    para hacer un resize y adaptarlas todas a tamaño IMG_SIZE x IMG_SIZE.\n",
        "    \n",
        "    Args:\n",
        "        dirname: directorio completo del que leer los datos\n",
        "        map_characters: variable de mapeo entre labels y personajes\n",
        "        verbose: si es True, muestra información de las imágenes cargadas\n",
        "     \n",
        "    Returns:\n",
        "        X, y: X es un array con todas las imágenes cargadas con tamaño\n",
        "                IMG_SIZE x IMG_SIZE\n",
        "              y es un array con las labels de correspondientes a cada imagen\n",
        "    \"\"\"\n",
        "    X_train = []\n",
        "    y_train = []\n",
        "    for label, character in map_characters.items():        \n",
        "        files = os.listdir(os.path.join(dirname, character))\n",
        "        images = [file for file in files if file.endswith(\"jpg\")]\n",
        "        if verbose:\n",
        "          print(\"Leyendo {} imágenes encontradas de {}\".format(len(images), character))\n",
        "        for image_name in images:\n",
        "            image = cv2.imread(os.path.join(dirname, character, image_name))\n",
        "            X_train.append(cv2.resize(image,(IMG_SIZE, IMG_SIZE)))\n",
        "            y_train.append(label)\n",
        "    return np.array(X_train), np.array(y_train)"
      ],
      "execution_count": null,
      "outputs": []
    },
    {
      "metadata": {
        "id": "NslxhnnDK6uA"
      },
      "cell_type": "code",
      "source": [
        "def load_test_set(dirname, map_characters, verbose=True):\n",
        "    \"\"\"Esta función funciona de manera equivalente a la función load_train_set\n",
        "    pero cargando los datos de test.\"\"\"\n",
        "    X_test = []\n",
        "    y_test = []\n",
        "    reverse_dict = {v: k for k, v in map_characters.items()}\n",
        "    for filename in glob.glob(dirname + '/*.*'):\n",
        "        char_name = \"_\".join(filename.split('/')[-1].split('_')[:-1])\n",
        "        if char_name in reverse_dict:\n",
        "            image = cv2.imread(filename)\n",
        "            image = cv2.resize(image, (IMG_SIZE, IMG_SIZE))\n",
        "            X_test.append(image)\n",
        "            y_test.append(reverse_dict[char_name])\n",
        "    if verbose:\n",
        "        print(\"Leídas {} imágenes de test\".format(len(X_test)))\n",
        "    return np.array(X_test), np.array(y_test)\n"
      ],
      "execution_count": null,
      "outputs": []
    },
    {
      "metadata": {
        "id": "WVWqKxFcbwTu",
        "colab": {
          "base_uri": "https://localhost:8080/"
        },
        "outputId": "277f5564-1185-4be5-c81e-a8f51e330484"
      },
      "cell_type": "code",
      "source": [
        "# Cargamos los datos. Si no estás trabajando en colab, cambia los paths por\n",
        "# los de los ficheros donde hayas descargado los datos.\n",
        "\n",
        "DATASET_TRAIN_PATH_COLAB = \"/root/.keras/datasets/simpsons\"\n",
        "DATASET_TEST_PATH_COLAB = \"/root/.keras/datasets/simpsons_testset\"\n",
        "\n",
        "X, y = load_train_set(DATASET_TRAIN_PATH_COLAB, MAP_CHARACTERS)\n",
        "X_t, y_t = load_test_set(DATASET_TEST_PATH_COLAB, MAP_CHARACTERS)"
      ],
      "execution_count": null,
      "outputs": [
        {
          "output_type": "stream",
          "name": "stdout",
          "text": [
            "Leyendo 913 imágenes encontradas de abraham_grampa_simpson\n",
            "Leyendo 623 imágenes encontradas de apu_nahasapeemapetilon\n",
            "Leyendo 1342 imágenes encontradas de bart_simpson\n",
            "Leyendo 1193 imágenes encontradas de charles_montgomery_burns\n",
            "Leyendo 986 imágenes encontradas de chief_wiggum\n",
            "Leyendo 469 imágenes encontradas de comic_book_guy\n",
            "Leyendo 457 imágenes encontradas de edna_krabappel\n",
            "Leyendo 2246 imágenes encontradas de homer_simpson\n",
            "Leyendo 498 imágenes encontradas de kent_brockman\n",
            "Leyendo 1206 imágenes encontradas de krusty_the_clown\n",
            "Leyendo 1354 imágenes encontradas de lisa_simpson\n",
            "Leyendo 1291 imágenes encontradas de marge_simpson\n",
            "Leyendo 1079 imágenes encontradas de milhouse_van_houten\n",
            "Leyendo 1452 imágenes encontradas de moe_szyslak\n",
            "Leyendo 1454 imágenes encontradas de ned_flanders\n",
            "Leyendo 358 imágenes encontradas de nelson_muntz\n",
            "Leyendo 1194 imágenes encontradas de principal_skinner\n",
            "Leyendo 877 imágenes encontradas de sideshow_bob\n",
            "Leídas 890 imágenes de test\n"
          ]
        }
      ]
    },
    {
      "cell_type": "code",
      "source": [
        "plt.imshow(X[0])"
      ],
      "metadata": {
        "colab": {
          "base_uri": "https://localhost:8080/",
          "height": 285
        },
        "id": "pq92UO5JC26M",
        "outputId": "fd145db6-1e81-4222-c8ce-8573744acdde"
      },
      "execution_count": null,
      "outputs": [
        {
          "output_type": "execute_result",
          "data": {
            "text/plain": [
              "<matplotlib.image.AxesImage at 0x7fa292972100>"
            ]
          },
          "metadata": {},
          "execution_count": 7
        },
        {
          "output_type": "display_data",
          "data": {
            "text/plain": [
              "<Figure size 432x288 with 1 Axes>"
            ],
            "image/png": "[encoded data removed]"
          },
          "metadata": {
            "needs_background": "light"
          }
        }
      ]
    },
    {
      "cell_type": "code",
      "source": [
        "# Vamos a barajar aleatoriamente los datos. Esto es importante ya que si no\n",
        "# lo hacemos y, por ejemplo, cogemos el 20% de los datos finales como validation\n",
        "# set, estaremos utilizando solo un pequeño número de personajes, ya que\n",
        "# las imágenes se leen secuencialmente personaje a personaje.\n",
        "\n",
        "perm = np.random.permutation(len(X))\n",
        "X, y = X[perm], y[perm]"
      ],
      "metadata": {
        "id": "atXxgPRFixic"
      },
      "execution_count": null,
      "outputs": []
    },
    {
      "cell_type": "code",
      "source": [
        "from keras.utils import to_categorical\n",
        "\n",
        "#Vamos a normalizar las imagenes\n",
        "X = X/255.0\n",
        "X_t = X_t/255.0\n",
        "\n",
        "#Luego, la función \"to_categorical\" se utiliza para convertir los valores enteros de las etiquetas de las clases en un vector binario, donde cada elemento representa una clase.\n",
        "y, y_t = to_categorical(y), to_categorical(y_t)"
      ],
      "metadata": {
        "id": "jpZyo1uzfwSV"
      },
      "execution_count": null,
      "outputs": []
    },
    {
      "cell_type": "code",
      "source": [
        "from sklearn.model_selection import train_test_split\n",
        "\n",
        "#Lo que estamos haciendo aquí es separar las imagenes en una proporción de 80% train y 20% test\n",
        "X, X_val, y, y_val = train_test_split(X, y, test_size=0.2, random_state=42)"
      ],
      "metadata": {
        "id": "XK1zT6RnjPuc"
      },
      "execution_count": null,
      "outputs": []
    },
    {
      "cell_type": "code",
      "source": [
        "from keras.layers.normalization.batch_normalization_v1 import BatchNormalization\n",
        "from keras import layers\n",
        "from keras.utils import to_categorical\n",
        "from keras.models import Sequential\n",
        "from keras.layers import Conv2D, MaxPooling2D, Flatten, Dense, Dropout\n",
        "\n",
        "# Crear modelo\n",
        "model = Sequential()\n",
        "model.add(Conv2D(64, (3,3), activation='relu', input_shape=(64,64,3)))\n",
        "BatchNormalization(),\n",
        "model.add(MaxPooling2D((2,2)))\n",
        "model.add(Conv2D(64, (3,3), activation='relu'))\n",
        "BatchNormalization(),\n",
        "model.add(MaxPooling2D((2,2)))\n",
        "model.add(Conv2D(128, (3,3), activation='relu'))\n",
        "BatchNormalization(),\n",
        "model.add(MaxPooling2D((2,2)))\n",
        "model.add(Flatten())\n",
        "model.add(Dense(128, activation='relu'))\n",
        "model.add(Dropout(0.5))\n",
        "model.add(Dense(18, activation='softmax'))\n",
        "\n",
        "#Conv2D: Esta capa convolucional tiene varios hiperparámetros, incluyendo el número de filtros (64, 64 y 128), el tamaño del filtro (3x3) y la función de activación (ReLU).\n",
        "#BatchNormalization: Esta técnica se utiliza para normalizar las activaciones de la capa anterior, lo que ayuda a acelerar el entrenamiento de la red y mejorar su capacidad de generalización.\n",
        "#MaxPooling2D: Esta capa de pooling se utiliza para reducir el tamaño de las características de salida de la capa convolucional.\n",
        "#Flatten: Esta capa se utiliza para aplanar las características de salida de la capa de pooling antes de alimentarlas a la capa densa.\n",
        "#Dense: Esta capa densa tiene varios hiperparámetros, incluyendo el número de neuronas (128 y 18), la función de activación (ReLU en la capa oculta y softmax en la capa de salida) y el inicializador de pesos predeterminado.\n",
        "#Dropout: Esta técnica se utiliza para regularizar la red neuronal y prevenir el sobreajuste mediante la eliminación aleatoria de unidades durante el entrenamiento."
      ],
      "metadata": {
        "id": "IwgWh7398y96"
      },
      "execution_count": null,
      "outputs": []
    },
    {
      "cell_type": "code",
      "source": [
        "from keras import optimizers\n",
        "\n",
        "model.compile(optimizer='adam',\n",
        "  loss='binary_crossentropy',\n",
        "  metrics=['acc'])\n",
        "history = model.fit(X, y, epochs=15, batch_size=32, validation_data=(X_val, y_val))\n",
        "\n",
        "#Optimizador: Se utiliza el optimizador Adam.\n",
        "#loss: La función de pérdida se establece en binary_crossentropy, que es una función utilizada para problemas de clasificación binaria.\n",
        "#batch_size: Este hiperparámetro define el tamaño de lote utilizado en el entrenamiento y ajuste de la red neuronal.\n",
        "#epochs: Este hiperparámetro define el número de veces que el modelo se ajusta a los datos de entrenamiento durante el entrenamiento.\n",
        "#validation_data: Este hiperparámetro especifica los datos utilizados para la validación del modelo durante el entrenamiento, lo que ayuda a monitorear el rendimiento del modelo en datos no vistos durante el entrenamiento."
      ],
      "metadata": {
        "colab": {
          "base_uri": "https://localhost:8080/"
        },
        "id": "j1FuCOblVc56",
        "outputId": "1bbbd01e-07c7-46e0-bedd-114c5a127164"
      },
      "execution_count": null,
      "outputs": [
        {
          "output_type": "stream",
          "name": "stdout",
          "text": [
            "Epoch 1/15\n",
            "475/475 [==============================] - 18s 11ms/step - loss: 0.2118 - acc: 0.2104 - val_loss: 0.1442 - val_acc: 0.4993\n",
            "Epoch 2/15\n",
            "475/475 [==============================] - 5s 9ms/step - loss: 0.1488 - acc: 0.4682 - val_loss: 0.1118 - val_acc: 0.6160\n",
            "Epoch 3/15\n",
            "475/475 [==============================] - 4s 9ms/step - loss: 0.1186 - acc: 0.5949 - val_loss: 0.0929 - val_acc: 0.6923\n",
            "Epoch 4/15\n",
            "475/475 [==============================] - 4s 9ms/step - loss: 0.0969 - acc: 0.6760 - val_loss: 0.0735 - val_acc: 0.7620\n",
            "Epoch 5/15\n",
            "475/475 [==============================] - 4s 9ms/step - loss: 0.0796 - acc: 0.7438 - val_loss: 0.0731 - val_acc: 0.7594\n",
            "Epoch 6/15\n",
            "475/475 [==============================] - 4s 9ms/step - loss: 0.0672 - acc: 0.7926 - val_loss: 0.0599 - val_acc: 0.8118\n",
            "Epoch 7/15\n",
            "475/475 [==============================] - 4s 8ms/step - loss: 0.0560 - acc: 0.8292 - val_loss: 0.0544 - val_acc: 0.8371\n",
            "Epoch 8/15\n",
            "475/475 [==============================] - 4s 9ms/step - loss: 0.0474 - acc: 0.8622 - val_loss: 0.0521 - val_acc: 0.8521\n",
            "Epoch 9/15\n",
            "475/475 [==============================] - 4s 9ms/step - loss: 0.0404 - acc: 0.8826 - val_loss: 0.0465 - val_acc: 0.8621\n",
            "Epoch 10/15\n",
            "475/475 [==============================] - 4s 9ms/step - loss: 0.0363 - acc: 0.8986 - val_loss: 0.0468 - val_acc: 0.8631\n",
            "Epoch 11/15\n",
            "475/475 [==============================] - 4s 9ms/step - loss: 0.0312 - acc: 0.9161 - val_loss: 0.0442 - val_acc: 0.8763\n",
            "Epoch 12/15\n",
            "475/475 [==============================] - 4s 9ms/step - loss: 0.0280 - acc: 0.9252 - val_loss: 0.0460 - val_acc: 0.8771\n",
            "Epoch 13/15\n",
            "475/475 [==============================] - 4s 9ms/step - loss: 0.0242 - acc: 0.9382 - val_loss: 0.0471 - val_acc: 0.8765\n",
            "Epoch 14/15\n",
            "475/475 [==============================] - 4s 9ms/step - loss: 0.0221 - acc: 0.9473 - val_loss: 0.0464 - val_acc: 0.8821\n",
            "Epoch 15/15\n",
            "475/475 [==============================] - 4s 9ms/step - loss: 0.0193 - acc: 0.9533 - val_loss: 0.0489 - val_acc: 0.8844\n"
          ]
        }
      ]
    },
    {
      "cell_type": "code",
      "source": [
        "# Evaluar el modelo en el conjunto de prueba\n",
        "test_loss, test_acc = model.evaluate(X_t, y_t)\n",
        "print(\"Test accuracy:\", test_acc)"
      ],
      "metadata": {
        "colab": {
          "base_uri": "https://localhost:8080/"
        },
        "id": "SLgSnZ6TlJhd",
        "outputId": "ca522735-6c36-40b7-838a-f76d02f85176"
      },
      "execution_count": null,
      "outputs": [
        {
          "output_type": "stream",
          "name": "stdout",
          "text": [
            "28/28 [==============================] - 0s 8ms/step - loss: 0.0158 - acc: 0.9674\n",
            "Test accuracy: 0.9674157500267029\n"
          ]
        }
      ]
    },
    {
      "cell_type": "code",
      "source": [
        "from sklearn.metrics import classification_report\n",
        "# Obtener predicciones en el conjunto de test\n",
        "\n",
        "prediccion = model.predict(X_t)\n",
        "\n",
        "# Obtener métricas de precisión y recall por clase\n",
        "\n",
        "target_names = list(MAP_CHARACTERS.values())\n",
        "informe = classification_report(np.argmax(y_t,axis=1), \n",
        "                                np.argmax(prediccion,axis=1), \n",
        "                                target_names=target_names)\n",
        "print(informe)"
      ],
      "metadata": {
        "colab": {
          "base_uri": "https://localhost:8080/"
        },
        "id": "9q6MxgpVozOU",
        "outputId": "8626785e-4d1f-475b-f185-3539a6651b37"
      },
      "execution_count": null,
      "outputs": [
        {
          "output_type": "stream",
          "name": "stdout",
          "text": [
            "28/28 [==============================] - 0s 3ms/step\n",
            "                          precision    recall  f1-score   support\n",
            "\n",
            "  abraham_grampa_simpson       0.96      0.96      0.96        48\n",
            "  apu_nahasapeemapetilon       0.96      1.00      0.98        50\n",
            "            bart_simpson       0.94      0.92      0.93        50\n",
            "charles_montgomery_burns       0.92      0.96      0.94        48\n",
            "            chief_wiggum       0.98      0.98      0.98        50\n",
            "          comic_book_guy       1.00      0.94      0.97        49\n",
            "          edna_krabappel       0.98      0.94      0.96        50\n",
            "           homer_simpson       0.91      0.98      0.94        50\n",
            "           kent_brockman       1.00      0.98      0.99        50\n",
            "        krusty_the_clown       0.96      1.00      0.98        50\n",
            "            lisa_simpson       0.96      0.92      0.94        50\n",
            "           marge_simpson       1.00      1.00      1.00        50\n",
            "     milhouse_van_houten       1.00      1.00      1.00        49\n",
            "             moe_szyslak       0.94      0.96      0.95        50\n",
            "            ned_flanders       0.98      0.98      0.98        49\n",
            "            nelson_muntz       1.00      0.92      0.96        50\n",
            "       principal_skinner       0.94      1.00      0.97        50\n",
            "            sideshow_bob       1.00      0.98      0.99        47\n",
            "\n",
            "                accuracy                           0.97       890\n",
            "               macro avg       0.97      0.97      0.97       890\n",
            "            weighted avg       0.97      0.97      0.97       890\n",
            "\n"
          ]
        }
      ]
    },
    {
      "cell_type": "markdown",
      "source": [
        "Como podemos observar en los resultados anteriores, el personaje con menos precisión es *charles_montgomery_burns*."
      ],
      "metadata": {
        "id": "UnfXF5HwdBVs"
      }
    },
    {
      "cell_type": "code",
      "source": [
        "import numpy as np\n",
        "fig, (ax1, ax2) = plt.subplots(2, 1, figsize=(7, 7))\n",
        "ax1.plot(history.history['loss'], color='b', label=\"Training loss\")\n",
        "ax1.plot(history.history['val_loss'], color='r', label=\"validation loss\")\n",
        "ax1.set_xticks(np.arange(20))\n",
        "#ax1.set_yticks(np.arange(0, 1, 0.1))\n",
        "ax1.legend(loc='best', shadow=True)\n",
        "ax2.plot(history.history['acc'], color='b', label=\"Training accuracy\")\n",
        "ax2.plot(history.history['val_acc'], color='r',label=\"Validation accuracy\")\n",
        "ax2.set_xticks(np.arange(20))\n",
        "ax2.legend(loc='best', shadow=True)\n",
        "plt.tight_layout()\n",
        "plt.show()"
      ],
      "metadata": {
        "colab": {
          "base_uri": "https://localhost:8080/",
          "height": 513
        },
        "id": "Sot2fkYkrwLL",
        "outputId": "6f9b7bd5-d21c-4c66-9119-cee2e1807a23"
      },
      "execution_count": null,
      "outputs": [
        {
          "output_type": "display_data",
          "data": {
            "text/plain": [
              "<Figure size 504x504 with 2 Axes>"
            ],
            "image/png": "[encoded data removed]"
          },
          "metadata": {
            "needs_background": "light"
          }
        }
      ]
    },
    {
      "cell_type": "code",
      "source": [
        "# Crear modelo fully connected\n",
        "mod = Sequential()\n",
        "mod.add(Flatten(input_shape=(64,64,3)))\n",
        "mod.add(Dense(64, activation='relu'))\n",
        "mod.add(Dense(64, activation='relu'))\n",
        "mod.add(Dense(128, activation='relu'))\n",
        "mod.add(Dense(256, activation='relu'))\n",
        "mod.add(Dense(18, activation='softmax'))\n",
        "\n",
        "mod.compile(optimizer='adam',\n",
        "  loss='binary_crossentropy',\n",
        "  metrics=['acc'])\n",
        "hist = mod.fit(X, y, epochs=15, batch_size=32, validation_data=(X_val, y_val))\n",
        "\n",
        "#input_shape: Define la forma de los datos de entrada, que son imágenes de 64x64 píxeles con 3 canales de color (RGB).\n",
        "#Dense: Esta capa densa tiene varios hiperparámetros, incluyendo el número de neuronas (18, 64 y 128), la función de activación (ReLU).\n",
        "#softmax: Se utiliza la función de activación softmax en la capa de salida para convertir las salidas en una distribución de probabilidades de 18 clases.\n",
        "#Optimizador: Se utiliza el optimizador Adam.\n",
        "#loss: La función de pérdida se establece en binary_crossentropy, que es una función utilizada para problemas de clasificación binaria.\n",
        "#batch_size: Este hiperparámetro define el tamaño de lote utilizado en el entrenamiento y ajuste de la red neuronal.\n",
        "#epochs: Este hiperparámetro define el número de veces que el modelo se ajusta a los datos de entrenamiento durante el entrenamiento.\n",
        "#validation_data: Este hiperparámetro especifica los datos utilizados para la validación del modelo durante el entrenamiento, lo que ayuda a monitorear el rendimiento del modelo en datos no vistos durante el entrenamiento.\n"
      ],
      "metadata": {
        "colab": {
          "base_uri": "https://localhost:8080/"
        },
        "id": "AE3vBE1ed4v8",
        "outputId": "d47d27d7-e1f9-42bd-d957-797599ec6838"
      },
      "execution_count": null,
      "outputs": [
        {
          "output_type": "stream",
          "name": "stdout",
          "text": [
            "Epoch 1/15\n",
            "475/475 [==============================] - 5s 6ms/step - loss: 0.2030 - acc: 0.2133 - val_loss: 0.1807 - val_acc: 0.2819\n",
            "Epoch 2/15\n",
            "475/475 [==============================] - 2s 5ms/step - loss: 0.1706 - acc: 0.3438 - val_loss: 0.1625 - val_acc: 0.3883\n",
            "Epoch 3/15\n",
            "475/475 [==============================] - 2s 5ms/step - loss: 0.1593 - acc: 0.3945 - val_loss: 0.1570 - val_acc: 0.4072\n",
            "Epoch 4/15\n",
            "475/475 [==============================] - 2s 5ms/step - loss: 0.1498 - acc: 0.4307 - val_loss: 0.1621 - val_acc: 0.3972\n",
            "Epoch 5/15\n",
            "475/475 [==============================] - 3s 6ms/step - loss: 0.1426 - acc: 0.4653 - val_loss: 0.1510 - val_acc: 0.4291\n",
            "Epoch 6/15\n",
            "475/475 [==============================] - 2s 5ms/step - loss: 0.1389 - acc: 0.4757 - val_loss: 0.1433 - val_acc: 0.4591\n",
            "Epoch 7/15\n",
            "475/475 [==============================] - 2s 5ms/step - loss: 0.1324 - acc: 0.5033 - val_loss: 0.1452 - val_acc: 0.4441\n",
            "Epoch 8/15\n",
            "475/475 [==============================] - 2s 5ms/step - loss: 0.1295 - acc: 0.5141 - val_loss: 0.1499 - val_acc: 0.4449\n",
            "Epoch 9/15\n",
            "475/475 [==============================] - 2s 5ms/step - loss: 0.1247 - acc: 0.5310 - val_loss: 0.1440 - val_acc: 0.4783\n",
            "Epoch 10/15\n",
            "475/475 [==============================] - 3s 6ms/step - loss: 0.1219 - acc: 0.5446 - val_loss: 0.1401 - val_acc: 0.4843\n",
            "Epoch 11/15\n",
            "475/475 [==============================] - 2s 5ms/step - loss: 0.1176 - acc: 0.5612 - val_loss: 0.1377 - val_acc: 0.4993\n",
            "Epoch 12/15\n",
            "475/475 [==============================] - 2s 5ms/step - loss: 0.1147 - acc: 0.5738 - val_loss: 0.1393 - val_acc: 0.4967\n",
            "Epoch 13/15\n",
            "475/475 [==============================] - 2s 5ms/step - loss: 0.1123 - acc: 0.5834 - val_loss: 0.1397 - val_acc: 0.4880\n",
            "Epoch 14/15\n",
            "475/475 [==============================] - 2s 5ms/step - loss: 0.1077 - acc: 0.6044 - val_loss: 0.1386 - val_acc: 0.4983\n",
            "Epoch 15/15\n",
            "475/475 [==============================] - 3s 7ms/step - loss: 0.1052 - acc: 0.6100 - val_loss: 0.1405 - val_acc: 0.5017\n"
          ]
        }
      ]
    },
    {
      "cell_type": "code",
      "source": [
        "# Obtener predicciones en el conjunto de test\n",
        "\n",
        "prediccion = mod.predict(X_t)\n",
        "\n",
        "# Obtener métricas de precisión y recall por clase\n",
        "\n",
        "target_names = list(MAP_CHARACTERS.values())\n",
        "informe = classification_report(np.argmax(y_t,axis=1), \n",
        "                                np.argmax(prediccion,axis=1), \n",
        "                                target_names=target_names)\n",
        "print(informe)"
      ],
      "metadata": {
        "colab": {
          "base_uri": "https://localhost:8080/"
        },
        "id": "V55kRr3CeFXI",
        "outputId": "36ee5bd5-d264-4bc3-eda2-8f4f18820226"
      },
      "execution_count": null,
      "outputs": [
        {
          "output_type": "stream",
          "name": "stdout",
          "text": [
            "28/28 [==============================] - 0s 2ms/step\n",
            "                          precision    recall  f1-score   support\n",
            "\n",
            "  abraham_grampa_simpson       0.36      0.56      0.44        48\n",
            "  apu_nahasapeemapetilon       0.62      0.90      0.73        50\n",
            "            bart_simpson       0.54      0.28      0.37        50\n",
            "charles_montgomery_burns       0.62      0.60      0.61        48\n",
            "            chief_wiggum       0.76      0.76      0.76        50\n",
            "          comic_book_guy       0.70      0.53      0.60        49\n",
            "          edna_krabappel       0.72      0.58      0.64        50\n",
            "           homer_simpson       0.43      0.52      0.47        50\n",
            "           kent_brockman       0.83      0.68      0.75        50\n",
            "        krusty_the_clown       0.80      0.74      0.77        50\n",
            "            lisa_simpson       0.70      0.46      0.55        50\n",
            "           marge_simpson       0.77      0.68      0.72        50\n",
            "     milhouse_van_houten       0.47      0.80      0.59        49\n",
            "             moe_szyslak       0.70      0.56      0.62        50\n",
            "            ned_flanders       0.56      0.67      0.61        49\n",
            "            nelson_muntz       0.73      0.22      0.34        50\n",
            "       principal_skinner       0.53      0.74      0.62        50\n",
            "            sideshow_bob       0.80      0.83      0.81        47\n",
            "\n",
            "                accuracy                           0.62       890\n",
            "               macro avg       0.65      0.62      0.61       890\n",
            "            weighted avg       0.65      0.62      0.61       890\n",
            "\n"
          ]
        }
      ]
    },
    {
      "cell_type": "code",
      "source": [
        "import numpy as np\n",
        "fig, (ax1, ax2) = plt.subplots(2, 1, figsize=(7, 7))\n",
        "ax1.plot(hist.history['loss'], color='b', label=\"Training loss\")\n",
        "ax1.plot(hist.history['val_loss'], color='r', label=\"validation loss\")\n",
        "ax1.set_xticks(np.arange(20))\n",
        "#ax1.set_yticks(np.arange(0, 1, 0.1))\n",
        "ax1.legend(loc='best', shadow=True)\n",
        "ax2.plot(hist.history['acc'], color='b', label=\"Training accuracy\")\n",
        "ax2.plot(hist.history['val_acc'], color='r',label=\"Validation accuracy\")\n",
        "ax2.set_xticks(np.arange(20))\n",
        "ax2.legend(loc='best', shadow=True)\n",
        "plt.tight_layout()\n",
        "plt.show()"
      ],
      "metadata": {
        "colab": {
          "base_uri": "https://localhost:8080/",
          "height": 513
        },
        "id": "u1Sdh--M56va",
        "outputId": "9074de60-73ed-4526-8a58-e8109b0a3b85"
      },
      "execution_count": null,
      "outputs": [
        {
          "output_type": "display_data",
          "data": {
            "text/plain": [
              "<Figure size 504x504 with 2 Axes>"
            ],
            "image/png": "[encoded data removed]"
          },
          "metadata": {
            "needs_background": "light"
          }
        }
      ]
    },
    {
      "cell_type": "markdown",
      "source": [
        "En comparación al modelo Convulcional, este modelo de Fully Connected nos da una precisión mucho menor al primer modelo."
      ],
      "metadata": {
        "id": "kCq-ZG7tptgY"
      }
    },
    {
      "cell_type": "code",
      "source": [
        "from keras.preprocessing.image import ImageDataGenerator\n",
        "\n",
        "# definir el aumento de datos\n",
        "datagen = ImageDataGenerator(\n",
        "    rotation_range=20,\n",
        "    width_shift_range=0.2,\n",
        "    height_shift_range=0.2,\n",
        "    shear_range=0.2,\n",
        "    zoom_range=0.2,\n",
        "    horizontal_flip=True,\n",
        "    fill_mode='nearest')\n",
        "\n",
        "datagen.fit(X) #Entrenamiento\n",
        "\n",
        "#Entrenamiento del modelo usando data augmentation\n",
        "train_log = model.fit(datagen.flow(X,y,batch_size = 60),epochs = 15, validation_data=(X_val, y_val))"
      ],
      "metadata": {
        "colab": {
          "base_uri": "https://localhost:8080/"
        },
        "id": "-0ir91gs5uf3",
        "outputId": "37d38bcf-e447-480d-c0a8-d73d2da65a0f"
      },
      "execution_count": null,
      "outputs": [
        {
          "output_type": "stream",
          "name": "stdout",
          "text": [
            "Epoch 1/15\n",
            "254/254 [==============================] - 22s 83ms/step - loss: 0.0922 - acc: 0.7134 - val_loss: 0.0382 - val_acc: 0.8834\n",
            "Epoch 2/15\n",
            "254/254 [==============================] - 21s 83ms/step - loss: 0.0767 - acc: 0.7600 - val_loss: 0.0360 - val_acc: 0.8897\n",
            "Epoch 3/15\n",
            "254/254 [==============================] - 21s 82ms/step - loss: 0.0707 - acc: 0.7799 - val_loss: 0.0361 - val_acc: 0.8908\n",
            "Epoch 4/15\n",
            "254/254 [==============================] - 20s 79ms/step - loss: 0.0647 - acc: 0.7944 - val_loss: 0.0363 - val_acc: 0.8863\n",
            "Epoch 5/15\n",
            "254/254 [==============================] - 21s 84ms/step - loss: 0.0600 - acc: 0.8121 - val_loss: 0.0376 - val_acc: 0.8813\n",
            "Epoch 6/15\n",
            "254/254 [==============================] - 20s 80ms/step - loss: 0.0575 - acc: 0.8199 - val_loss: 0.0316 - val_acc: 0.9031\n",
            "Epoch 7/15\n",
            "254/254 [==============================] - 22s 88ms/step - loss: 0.0544 - acc: 0.8304 - val_loss: 0.0301 - val_acc: 0.9092\n",
            "Epoch 8/15\n",
            "254/254 [==============================] - 21s 81ms/step - loss: 0.0518 - acc: 0.8366 - val_loss: 0.0315 - val_acc: 0.9039\n",
            "Epoch 9/15\n",
            "254/254 [==============================] - 21s 81ms/step - loss: 0.0514 - acc: 0.8415 - val_loss: 0.0312 - val_acc: 0.9013\n",
            "Epoch 10/15\n",
            "254/254 [==============================] - 20s 78ms/step - loss: 0.0489 - acc: 0.8497 - val_loss: 0.0301 - val_acc: 0.9063\n",
            "Epoch 11/15\n",
            "254/254 [==============================] - 21s 82ms/step - loss: 0.0482 - acc: 0.8512 - val_loss: 0.0316 - val_acc: 0.9060\n",
            "Epoch 12/15\n",
            "254/254 [==============================] - 20s 80ms/step - loss: 0.0468 - acc: 0.8563 - val_loss: 0.0298 - val_acc: 0.9108\n",
            "Epoch 13/15\n",
            "254/254 [==============================] - 20s 78ms/step - loss: 0.0442 - acc: 0.8638 - val_loss: 0.0329 - val_acc: 0.9016\n",
            "Epoch 14/15\n",
            "254/254 [==============================] - 21s 81ms/step - loss: 0.0443 - acc: 0.8640 - val_loss: 0.0289 - val_acc: 0.9126\n",
            "Epoch 15/15\n",
            "254/254 [==============================] - 20s 79ms/step - loss: 0.0434 - acc: 0.8672 - val_loss: 0.0307 - val_acc: 0.9089\n"
          ]
        }
      ]
    },
    {
      "metadata": {
        "id": "pBbmz9DMhVhc"
      },
      "cell_type": "markdown",
      "source": [
        "## Entregable\n",
        "\n",
        "Utilizando Convolutional Neural Networks con Keras, entrenar un clasificador que sea capaz de reconocer personajes en imágenes de los Simpsons con una accuracy en el dataset de test de **85%**. Redactar un informe analizando varias de las alternativas probadas y los resultados obtenidos.\n",
        "\n",
        "A continuación se detallan una serie de aspectos orientativos que podrían ser analizados en vuestro informe (no es necesario tratar todos ellos ni mucho menos, esto son ideas orientativas de aspectos que podéis explorar):\n",
        "\n",
        "*   Análisis de los datos a utilizar. \n",
        "*   Análisis de resultados, obtención de métricas de *precision* y *recall* por clase y análisis de qué clases obtienen mejores o peores resultados. \n",
        "*   Análisis visual de los errores de la red. ¿Qué tipo de imágenes o qué personajes dan más problemas a nuestro modelo? \n",
        "*   Comparación de modelos CNNs con un modelo de Fully Connected para este problema. \n",
        "*   Utilización de distintas arquitecturas CNNs, comentando aspectos como su profundidad, hiperparámetros utilizados, optimizador, uso de técnicas de regularización, *batch normalization*, etc. \n",
        "*   [ *algo más difícil* ] Utilización de *data augmentation*. Esto puede conseguirse con la clase [ImageDataGenerator](https://keras.io/preprocessing/image/#imagedatagenerator-class) de Keras.\n",
        "\n",
        "Notas: \n",
        "* Recuerda partir los datos en training/validation para tener una buena estimación de los valores que nuestro modelo tendrá en los datos de test, así como comprobar que no estamos cayendo en overfitting. Una posible partición puede ser 80 / 20.\n",
        "* No es necesario mostrar en el notebook las trazas de entrenamiento de todos los modelos entrenados, si bien una buena idea seria guardar gráficas de esos entrenamientos para el análisis. Sin embargo, **se debe mostrar el entrenamiento completo del mejor modelo obtenido y la evaluación de los datos de test con este modelo**.\n",
        "* Las imágenes **no están normalizadas**. Hay que normalizarlas como hemos hecho en trabajos anteriores.\n",
        "* El test set del problema tiene imágenes un poco más \"fáciles\", por lo que es posible encontrarse con métricas en el test set bastante mejores que en el training set."
      ]
    }
  ]
}